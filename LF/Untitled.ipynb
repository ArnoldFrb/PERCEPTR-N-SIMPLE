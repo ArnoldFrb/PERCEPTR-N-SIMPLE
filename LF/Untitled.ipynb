{
 "cells": [
  {
   "cell_type": "code",
   "execution_count": null,
   "metadata": {},
   "outputs": [],
   "source": [
    "import random as rn\n",
    "import numpy as np"
   ]
  },
  {
   "cell_type": "code",
   "execution_count": null,
   "metadata": {},
   "outputs": [],
   "source": [
    "class Config:\n",
    "    def __init__(self, ARCHIVO_ENTRADA = 'ENTRADAS.TXT', ARCHIVO_SALIDA = 'SALIDAS.TXT'):\n",
    "\n",
    "        self.MATRIZ_ENTRADA = np.loadtxt('DATA/' + ARCHIVO_ENTRADA)\n",
    "        self.MATRIZ_SALIDA = np.loadtxt('DATA/' + ARCHIVO_SALIDA)\n",
    "\n",
    "    #METODO PARA GENERAR PESOS\n",
    "    def GENERAR_PESOS(self):\n",
    "        MATRIZ = []\n",
    "        for N in range(len(self.MATRIZ_SALIDA[0])):\n",
    "            FILA = []\n",
    "            for M in range(len(self.MATRIZ_ENTRADA[0])):\n",
    "                FILA.append(round(rn.uniform(-1, 1), 2))\n",
    "            MATRIZ.append(FILA)\n",
    "        return MATRIZ\n",
    "\n",
    "    #METODO PARA GENERAR UMBRALES\n",
    "    def GENERAR_UMBRALES(self):\n",
    "        FILA = []\n",
    "        for N in range(len(self.MATRIZ_SALIDA[0])):\n",
    "            FILA.append(round(rn.uniform(-1, 1), 2))\n",
    "        return FILA\n",
    "\n",
    "    #EJECUTAR NEURONA\n",
    "    def MAIN(self, RATA_APRENDIZAJE, ERROR_ITERACION, NUMERO_ITERACIONES):\n",
    "        neuro = Neurona(\n",
    "            self.MATRIZ_ENTRADA, \n",
    "            self.MATRIZ_SALIDA, \n",
    "            self.GENERAR_PESOS(), \n",
    "            self.GENERAR_UMBRALES(),\n",
    "            RATA_APRENDIZAJE, \n",
    "            ERROR_ITERACION, \n",
    "            NUMERO_ITERACIONES\n",
    "            )\n",
    "        neuro.ENTRENAR()"
   ]
  }
 ],
 "metadata": {},
 "nbformat": 4,
 "nbformat_minor": 4
}